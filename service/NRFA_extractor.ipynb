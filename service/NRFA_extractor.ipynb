{
 "cells": [
  {
   "cell_type": "code",
   "execution_count": 1,
   "id": "21b0cbf60801ab8d",
   "metadata": {
    "collapsed": false,
    "ExecuteTime": {
     "end_time": "2024-01-24T17:45:23.442001200Z",
     "start_time": "2024-01-24T17:45:22.914481500Z"
    }
   },
   "outputs": [],
   "source": [
    "# Imports\n",
    "import os\n",
    "import urllib.request\n",
    "import urllib.error\n",
    "import json\n",
    "import pandas as pd\n",
    "from datetime import datetime\n",
    "from pandas import json_normalize\n",
    "from shapely.geometry import Point, Polygon\n",
    "from fastkml import kml\n",
    "import xml.etree.ElementTree as ET\n"
   ]
  },
  {
   "cell_type": "code",
   "outputs": [
    {
     "name": "stdout",
     "output_type": "stream",
     "text": [
      "1. List of station IDs (first 10):\n",
      "[1001, 2001, 2002, 3001, 3002, 3003, 3004, 3005, 3006, 4001]\n",
      "\n",
      "Total number of stations: 1600\n",
      "Station IDs saved to 'station_ids.json'\n"
     ]
    }
   ],
   "source": [
    "# -*- coding: utf-8 -*-\n",
    "\"\"\"\n",
    "NFRA API - Python examples of use\n",
    "\n",
    "See https://nrfaapps.ceh.ac.uk/nrfa/nrfa-api.html\n",
    "for a full description of the API and its capabilities.\n",
    "\n",
    "This script is for Python 3\n",
    "For Python 2, use urllib2 instead of urllib.request\n",
    "i.e.\n",
    "import urllib2\n",
    "response = urllib2.urlopen(url).read()\n",
    "\n",
    "\"\"\"\n",
    "# The base URL to access the NFRA API\n",
    "base_url = \"https://nrfaapps.ceh.ac.uk/nrfa/ws\"\n",
    "\n",
    "# There are three web services available...\n",
    "# -----------------------------------------------------------------------------\n",
    "# 1. station-ids\n",
    "# Returns a list of station identifiers\n",
    "# -----------------------------------------------------------------------------\n",
    "# Build request URL\n",
    "# The response format must be specified\n",
    "# Here we ask for a JSON object.\n",
    "# See https://nrfaapps.ceh.ac.uk/nrfa/nrfa-api.html#parameter-format\n",
    "# for all available formats\n",
    "query = \"format=json-object\"\n",
    "station_ids_url = \"{BASE}/station-ids?{QUERY}\".format(BASE=base_url,\n",
    "                                                      QUERY=query)\n",
    "\n",
    "# Send request and read response\n",
    "response = urllib.request.urlopen(station_ids_url).read()\n",
    "\n",
    "# Decode from JSON to Python dictionary\n",
    "response = json.loads(response)\n",
    "\n",
    "# See the list of station IDs\n",
    "station_ids = response['station-ids']\n",
    "print(\"1. List of station IDs (first 10):\")\n",
    "print(station_ids[:10])\n",
    "print()\n",
    "\n",
    "# Display the number of stations and a snippet of the data\n",
    "print(f\"Total number of stations: {len(station_ids)}\")\n",
    "\n",
    "# Save to a local file\n",
    "with open('station_ids.json', 'w') as file:\n",
    "    json.dump({'station-ids': station_ids}, file)\n",
    "\n",
    "print(\"Station IDs saved to 'station_ids.json'\\n\")"
   ],
   "metadata": {
    "collapsed": false,
    "ExecuteTime": {
     "end_time": "2024-01-17T17:06:23.469847100Z",
     "start_time": "2024-01-17T17:06:23.390799500Z"
    }
   },
   "id": "ff952653b0210f11",
   "execution_count": 5
  },
  {
   "cell_type": "markdown",
   "source": [
    "### -----------------------------------------------------------------------------\n",
    "# 2. station-info\n",
    "### Return metadata for given station(s)\n",
    "#### -----------------------------------------------------------------------------\n",
    "#### Build request URL\n",
    "#### The station ID(s) and response format must be specified.\n",
    "#### Here we specify two station IDs and request JSON again."
   ],
   "metadata": {
    "collapsed": false
   },
   "id": "a24623db81f92ea1"
  },
  {
   "cell_type": "code",
   "outputs": [
    {
     "name": "stdout",
     "output_type": "stream",
     "text": [
      "Total number of stations in metadata request: 2\n",
      "{'id': 9001, 'name': 'Deveron at Avochie'}\n",
      "{'id': 13004, 'name': 'Prosen Water at Prosen Bridge'}\n",
      "Station metadata saved to 'stations_metadata.json'\n"
     ]
    }
   ],
   "source": [
    "query = \"station=9001,13004&format=json-object\"\n",
    "stations_info_url = \"{BASE}/station-info?{QUERY}\".format(BASE=base_url,\n",
    "                                                         QUERY=query)\n",
    "\n",
    "# Send request and read response\n",
    "response = urllib.request.urlopen(stations_info_url).read()\n",
    "\n",
    "# Decode from JSON to Python dictionary\n",
    "response = json.loads(response)\n",
    "\n",
    "# See info from each station\n",
    "stations_info = response['data']\n",
    "\n",
    "\n",
    "# Display the number of stations and their metadata\n",
    "print(f\"Total number of stations in metadata request: {len(stations_info)}\")\n",
    "for station_info in stations_info:\n",
    "    print(station_info)\n",
    "\n",
    "# Save to a local file\n",
    "with open('stations_metadata.json', 'w') as file:\n",
    "    json.dump({'data': stations_info}, file)\n",
    "\n",
    "print(\"Station metadata saved to 'stations_metadata.json'\")\n",
    "# Note, there is an optional query parameter called 'fields'. This allows us to\n",
    "# specify what data is returned for the stations. Default is 'id' and 'name',\n",
    "# but many options are available...\n",
    "# See https://nrfaapps.ceh.ac.uk/nrfa/nrfa-api.html#parameter-fields"
   ],
   "metadata": {
    "collapsed": false,
    "ExecuteTime": {
     "end_time": "2024-01-17T17:08:18.792328600Z",
     "start_time": "2024-01-17T17:08:18.717818Z"
    }
   },
   "id": "9d471744c217fab",
   "execution_count": 8
  },
  {
   "cell_type": "markdown",
   "source": [],
   "metadata": {
    "collapsed": false
   },
   "id": "216c07028753c8bf"
  },
  {
   "cell_type": "code",
   "outputs": [
    {
     "name": "stdout",
     "output_type": "stream",
     "text": [
      "3. Details of time series:\n",
      "Time of request: 2024-01-17T17:09:17\n",
      "Station: Deveron at Avochie\n",
      "Data type: Gauged Daily Flow\n",
      "Data time series (first 10):\n",
      "['1959-10-01', 1.667, '1959-10-02', 1.667, '1959-10-03', 1.891, '1959-10-04', 1.512, '1959-10-05', 1.614]\n"
     ]
    }
   ],
   "source": [
    "\n",
    "\n",
    "# -----------------------------------------------------------------------------\n",
    "# 3. time-series\n",
    "# Return time series data for a single station\n",
    "# -----------------------------------------------------------------------------\n",
    "# Build request URL\n",
    "# The station ID, data type and response format must be specified.\n",
    "# Here we ask for gauged daily flows (gdf) in JSON format.\n",
    "# See https://nrfaapps.ceh.ac.uk/nrfa/nrfa-api.html#parameter-data-type\n",
    "# for all available data types, and\n",
    "# https://nrfaapps.ceh.ac.uk/nrfa/nrfa-api.html#time-series-formats\n",
    "# for all available time series response formats (note, although we use JSON\n",
    "# again, the other formats available differ from those for previous requests)\n",
    "query = \"station=9001&data-type=gdf&format=json-object\"\n",
    "stations_info_url = \"{BASE}/time-series?{QUERY}\".format(BASE=base_url,\n",
    "                                                        QUERY=query)\n",
    "\n",
    "# Send request and read response\n",
    "response = urllib.request.urlopen(stations_info_url).read()\n",
    "\n",
    "# Decode from JSON to Python dictionary\n",
    "response = json.loads(response)\n",
    "\n",
    "# See data from response\n",
    "print(\"3. Details of time series:\")\n",
    "print(\"Time of request: %s\" % response[\"timestamp\"])\n",
    "print(\"Station: %s\" % response['station']['name'])\n",
    "print(\"Data type: %s\" % response['data-type']['name'])\n",
    "print(\"Data time series (first 10):\")\n",
    "print(response['data-stream'][:10])"
   ],
   "metadata": {
    "collapsed": true,
    "ExecuteTime": {
     "end_time": "2024-01-17T17:09:25.729092100Z",
     "start_time": "2024-01-17T17:09:25.551040900Z"
    }
   },
   "id": "initial_id",
   "execution_count": 11
  },
  {
   "cell_type": "code",
   "outputs": [],
   "source": [
    "# Station Information\n",
    "# -------------------\n",
    "# 'id': 'Station Identifier'\n",
    "# 'name': 'Station Name'\n",
    "# 'catchmentArea': 'Catchment Area (in km²)'\n",
    "# 'gridReference': 'Grid Reference'\n",
    "#   'ngr': 'Grid Reference in String Form'\n",
    "#   'easting': 'Grid Reference Easting (in metres)'\n",
    "#   'northing': 'Grid Reference Northing (in metres)'\n",
    "# 'latLong': 'Latitude and Longitude'\n",
    "#   'string': 'Textual Representation of Latitude/Longitude'\n",
    "#   'latitude': 'Latitude (in decimal degrees)'\n",
    "#   'longitude': 'Longitude (in decimal degrees)'\n",
    "# 'river': 'Name of the River'\n",
    "# 'location': 'Name of the Location on the River'\n",
    "# 'stationLevel': 'Altitude of the Station Above Ordnance Datum'\n",
    "# 'stationInformation': 'Basic Station Information'\n",
    "# 'catchmentInformation': 'Basic Catchment Information'\n",
    "# 'gdfStatistics': 'Gauged Daily Flow Statistics'\n",
    "# 'peakFlowStatistics': 'Basic Peak-Flow Statistics'\n",
    "# 'elevation': 'Catchment Elevation Percentile Data'\n",
    "# 'catchmentRainfall': 'Catchment Rainfall Standard Period Data'\n",
    "# 'landCover': 'Land Cover Map Data'\n",
    "#   'lcm2000': 'Land Cover Map Data (2000)'\n",
    "#   'lcm2007': 'Land Cover Map Data (2007)'\n",
    "# 'geology': 'Catchment Geology Data'\n",
    "# 'fehDescriptors': 'FEH Catchment Descriptors'\n",
    "# 'urbanExtent': 'Urban Extent Data'\n",
    "# 'spatialLocation': 'Spatial Location Data'\n",
    "# 'peakFlowMetadata': 'Metadata Related to Peak-Flow Data'\n",
    "# 'dataSummary': 'Summary of Available Time-Series Data-Types'\n",
    "\n",
    "# Time Series Data\n",
    "# ----------------\n",
    "# 'timestamp': 'Date and Time of Output Creation'\n",
    "# 'interval': 'Date/Time Range and Period of Returned Data'\n",
    "# 'station': 'Station Metadata'\n",
    "#   'id': 'Station Identifier'\n",
    "#   'name': 'Station Name'\n",
    "# 'dataType': 'Data Type Information'\n",
    "#   'id': 'Data-Type Identifier'\n",
    "#"
   ],
   "metadata": {
    "collapsed": false
   },
   "id": "e505961573c2a679"
  },
  {
   "cell_type": "code",
   "outputs": [
    {
     "name": "stdout",
     "output_type": "stream",
     "text": [
      "Data for station 1001 has been saved to station_data_csv\\1001_gdf_all_data.csv\n"
     ]
    }
   ],
   "source": [
    "def download_all_station_data_csv(base_url, station_id, data_folder, data_type='gdf'):\n",
    "    # Build the URL for the time-series data request for all dates\n",
    "    time_series_url = f\"{base_url}/time-series?station={station_id}&data-type={data_type}&format=json-object\"\n",
    "\n",
    "    # Create the data folder if it does not exist\n",
    "    if not os.path.exists(data_folder):\n",
    "        os.makedirs(data_folder)\n",
    "\n",
    "    try:\n",
    "        # Fetch the data\n",
    "        response = urllib.request.urlopen(time_series_url)\n",
    "        data = json.loads(response.read())\n",
    "\n",
    "        # Check if 'data-stream' in response and it contains data\n",
    "        if 'data-stream' in data:\n",
    "            # Determine if the 'data-stream' is a list of values or a list of [date, value] pairs\n",
    "            first_entry = next(iter(data['data-stream']), None)\n",
    "            if first_entry and isinstance(first_entry, list) and len(first_entry) == 2:\n",
    "                # It's a list of [date, value] pairs\n",
    "                df = pd.DataFrame(data['data-stream'], columns=['Date', 'Value'])\n",
    "            else:\n",
    "                # It's a single list of values; create a DataFrame with a single column\n",
    "                df = pd.DataFrame(data['data-stream'], columns=['Value'])\n",
    "                # If there's no 'Date' in the data, we might need to generate it or handle it differently\n",
    "\n",
    "            # Add additional station and data type information if it's a list of [date, value] pairs\n",
    "            if 'Date' in df.columns:\n",
    "                df['Station ID'] = data['station']['id']\n",
    "                df['Station Name'] = data['station']['name']\n",
    "                df['Data Type ID'] = data['data-type']['id']\n",
    "                df['Data Type Name'] = data['data-type']['name']\n",
    "\n",
    "            # Save the DataFrame to a CSV file\n",
    "            csv_file_path = os.path.join(data_folder, f\"{station_id}_{data_type}_all_data.csv\")\n",
    "            df.to_csv(csv_file_path, index=False)\n",
    "            print(f\"Data for station {station_id} has been saved to {csv_file_path}\")\n",
    "        else:\n",
    "            print(f\"No data available for station {station_id}.\")\n",
    "\n",
    "    except urllib.error.HTTPError as e:\n",
    "        print(f\"HTTP Error for station {station_id}: {e.code}\")\n",
    "    except json.JSONDecodeError as e:\n",
    "        print(f\"JSON Decode Error for station {station_id}: {e.msg}\")\n",
    "\n",
    "# Usage example:\n",
    "base_url = \"https://nrfaapps.ceh.ac.uk/nrfa/ws\"\n",
    "station_id = \"1001\"  # Replace with the desired station ID\n",
    "data_folder = \"station_data_csv\"  # Replace with your data folder path\n",
    "\n",
    "# Call the function to download all available data for the specified station\n",
    "download_all_station_data_csv(base_url, station_id, data_folder)"
   ],
   "metadata": {
    "collapsed": false,
    "ExecuteTime": {
     "end_time": "2024-01-23T21:31:24.955484300Z",
     "start_time": "2024-01-23T21:31:24.809338300Z"
    }
   },
   "id": "84a565a8a1e5911e",
   "execution_count": 5
  },
  {
   "cell_type": "code",
   "outputs": [
    {
     "name": "stdout",
     "output_type": "stream",
     "text": [
      "Fetched Station IDs: [1001, 2001, 2002, 3001, 3002, 3003, 3004, 3005, 3006, 4001, 4003, 4004, 4005, 4006, 4007, 4008, 4009, 4010, 4011, 5001, 5002, 5003, 5004, 6001, 6003, 6006, 6007, 6008, 6009, 6011, 6012, 6013, 7001, 7002, 7003, 7004, 7005, 7006, 7007, 7008, 7009, 7010, 7011, 7012, 8001, 8002, 8003, 8004, 8005, 8006, 8007, 8008, 8009, 8010, 8011, 8013, 8015, 8016, 8017, 8018, 8021, 9001, 9002, 9003, 9004, 9005, 9006, 9007, 9008, 9009, 9010, 10001, 10002, 10003, 11001, 11002, 11003, 11004, 11005, 11006, 12001, 12002, 12003, 12004, 12005, 12006, 12007, 12008, 12009, 13001, 13002, 13003, 13004, 13005, 13007, 13008, 13009, 13010, 13012, 13017, 14001, 14002, 14005, 14006, 14007, 14009, 14010, 15001, 15002, 15003, 15004, 15005, 15006, 15007, 15008, 15010, 15011, 15012, 15013, 15014, 15015, 15016, 15017, 15018, 15021, 15023, 15024, 15025, 15027, 15028, 15029, 15030, 15032, 15034, 15035, 15038, 15039, 15041, 15046, 16001, 16002, 16003, 16004, 16007, 17001, 17002, 17003, 17004, 17005, 17008, 17012, 17015, 17016, 17018, 18001, 18002, 18003, 18005, 18007, 18008, 18010, 18011, 18013, 18014, 18015, 18016, 18017, 18018, 18019, 18020, 18021, 18022, 18023, 19001, 19002, 19003, 19004, 19005, 19006, 19007, 19008, 19009, 19010, 19011, 19012, 19014, 19017, 19020, 19021, 20001, 20002, 20003, 20004, 20005, 20006, 20007, 21001, 21002, 21003, 21005, 21006, 21007, 21008, 21009, 21010, 21011, 21012, 21013, 21014, 21015, 21016, 21017, 21018, 21019, 21020, 21021, 21022, 21023, 21024, 21025, 21026, 21027, 21028, 21029, 21030, 21031, 21032, 21034, 21035, 22001, 22002, 22003, 22004, 22006, 22007, 22008, 22009, 23001, 23002, 23003, 23004, 23005, 23006, 23007, 23008, 23009, 23010, 23011, 23012, 23013, 23014, 23015, 23016, 23017, 23018, 23022, 23033, 24001, 24002, 24003, 24004, 24005, 24006, 24007, 24008, 24009, 24011, 25001, 25002, 25003, 25004, 25005, 25006, 25007, 25008, 25009, 25011, 25012, 25018, 25019, 25020, 25021, 25022, 25023, 25029, 25808, 25809, 25810, 26001, 26002, 26003, 26004, 26005, 26006, 26007, 26008, 26009, 26010, 26011, 26012, 26013, 26014, 26016, 26017, 27001, 27002, 27003, 27004, 27005, 27006, 27007, 27009, 27010, 27011, 27012, 27013, 27014, 27015, 27016, 27017, 27018, 27019, 27020, 27021, 27022, 27023, 27024, 27025, 27026, 27027, 27028, 27029, 27030, 27031, 27032, 27033, 27034, 27035, 27038, 27040, 27041, 27042, 27043, 27044, 27047, 27048, 27049, 27051, 27052, 27053, 27054, 27055, 27056, 27057, 27058, 27059, 27060, 27061, 27062, 27063, 27064, 27065, 27066, 27067, 27068, 27069, 27071, 27072, 27073, 27074, 27075, 27076, 27077, 27079, 27080, 27081, 27082, 27083, 27084, 27085, 27086, 27087, 27088, 27089, 27090, 27091, 27092, 27093, 27094, 27095, 27096, 27097, 27098, 27099, 28001, 28002, 28003, 28004, 28005, 28006, 28007, 28008, 28009, 28011, 28012, 28014, 28015, 28016, 28017, 28018, 28019, 28020, 28021, 28022, 28023, 28024, 28025, 28026, 28027, 28028, 28029, 28030, 28031, 28032, 28033, 28035, 28036, 28037, 28038, 28039, 28040, 28041, 28043, 28044, 28045, 28046, 28047, 28048, 28049, 28050, 28052, 28053, 28055, 28056, 28058, 28059, 28060, 28061, 28066, 28067, 28068, 28070, 28072, 28074, 28079, 28080, 28081, 28082, 28083, 28085, 28086, 28087, 28091, 28093, 28095, 28101, 28102, 28103, 28109, 28110, 28112, 28113, 28115, 28116, 28117, 28118, 29001, 29002, 29003, 29004, 29005, 29009, 30001, 30002, 30003, 30004, 30005, 30006, 30011, 30012, 30013, 30014, 30015, 30017, 30018, 30033, 31001, 31002, 31004, 31005, 31006, 31007, 31008, 31009, 31010, 31011, 31013, 31016, 31021, 31022, 31023, 31024, 31025, 31026, 31028, 32001, 32002, 32003, 32004, 32006, 32007, 32008, 32010, 32012, 32016, 32019, 32020, 32029, 32031, 33001, 33002, 33003, 33004, 33005, 33006, 33007, 33009, 33011, 33012, 33013, 33014, 33015, 33016, 33018, 33019, 33020, 33021, 33022, 33023, 33024, 33025, 33026, 33027, 33028, 33029, 33030, 33031, 33032, 33033, 33034, 33035, 33037, 33039, 33040, 33044, 33045, 33046, 33048, 33049, 33050, 33051, 33052, 33053, 33054, 33055, 33056, 33057, 33058, 33061, 33062, 33063, 33064, 33065, 33066, 33068, 33070, 34001, 34002, 34003, 34004, 34005, 34006, 34007, 34008, 34010, 34011, 34012, 34014, 34018, 34019, 35001, 35002, 35003, 35004, 35008, 35010, 35013, 35014, 36001, 36002, 36003, 36004, 36005, 36006, 36007, 36008, 36009, 36010, 36011, 36012, 36013, 36015, 37001, 37002, 37003, 37004, 37005, 37006, 37007, 37008, 37009, 37010, 37011, 37012, 37013, 37014, 37015, 37016, 37017, 37018, 37019, 37020, 37021, 37022, 37023, 37024, 37025, 37026, 37027, 37028, 37029, 37031, 37033, 37034, 37038, 38001, 38002, 38003, 38004, 38005, 38006, 38007, 38011, 38012, 38013, 38014, 38015, 38016, 38017, 38018, 38019, 38020, 38021, 38022, 38023, 38024, 38025, 38026, 38027, 38028, 38029, 38030, 38031, 38032, 38033, 39001, 39002, 39003, 39004, 39005, 39006, 39007, 39008, 39009, 39010, 39011, 39012, 39013, 39014, 39015, 39016, 39017, 39018, 39019, 39020, 39021, 39022, 39023, 39024, 39025, 39026, 39027, 39028, 39029, 39030, 39031, 39032, 39033, 39034, 39035, 39036, 39037, 39038, 39039, 39040, 39042, 39043, 39044, 39046, 39049, 39051, 39052, 39053, 39054, 39055, 39056, 39057, 39058, 39061, 39065, 39068, 39069, 39071, 39072, 39073, 39074, 39075, 39076, 39077, 39078, 39079, 39081, 39084, 39085, 39086, 39087, 39088, 39089, 39090, 39091, 39092, 39093, 39094, 39095, 39096, 39097, 39098, 39099, 39100, 39101, 39102, 39103, 39104, 39105, 39106, 39107, 39108, 39109, 39110, 39111, 39112, 39113, 39114, 39115, 39116, 39117, 39118, 39119, 39120, 39121, 39122, 39123, 39125, 39126, 39127, 39128, 39129, 39130, 39131, 39133, 39134, 39135, 39137, 39138, 39140, 39141, 39142, 39143, 39144, 39145, 39146, 39147, 39148, 39866, 40001, 40002, 40003, 40004, 40005, 40006, 40007, 40008, 40009, 40010, 40011, 40012, 40013, 40014, 40015, 40016, 40017, 40018, 40020, 40021, 40022, 40023, 40024, 40025, 40027, 40029, 40033, 40035, 41001, 41002, 41003, 41004, 41005, 41006, 41009, 41010, 41011, 41012, 41013, 41014, 41015, 41016, 41017, 41018, 41019, 41020, 41021, 41022, 41023, 41024, 41025, 41026, 41027, 41028, 41029, 41030, 41031, 41033, 41034, 41035, 41037, 42001, 42003, 42004, 42005, 42006, 42007, 42008, 42009, 42010, 42011, 42012, 42014, 42015, 42016, 42017, 42018, 42019, 42020, 42023, 42024, 42025, 42026, 42027, 42029, 42030, 43001, 43003, 43004, 43005, 43006, 43007, 43008, 43009, 43010, 43011, 43012, 43013, 43014, 43017, 43018, 43019, 43021, 43022, 43023, 43024, 43025, 43026, 43027, 43028, 43029, 44001, 44002, 44003, 44004, 44006, 44008, 44009, 44011, 44012, 44013, 44014, 44015, 45001, 45002, 45003, 45004, 45005, 45006, 45007, 45008, 45009, 45010, 45011, 45012, 45013, 45816, 45817, 45818, 46002, 46003, 46005, 46006, 46007, 46008, 46013, 46014, 47001, 47002, 47003, 47004, 47005, 47006, 47007, 47008, 47009, 47010, 47011, 47013, 47014, 47015, 47016, 47017, 47018, 47019, 47020, 47021, 47022, 47023, 47024, 47025, 48001, 48003, 48004, 48005, 48006, 48007, 48008, 48009, 48010, 48011, 48012, 48801, 48803, 49001, 49002, 49003, 49004, 49005, 49006, 49007, 49008, 50001, 50002, 50003, 50005, 50006, 50007, 50008, 50009, 50010, 50011, 50012, 50013, 50014, 51001, 51002, 51003, 52001, 52002, 52003, 52004, 52005, 52006, 52007, 52008, 52009, 52010, 52011, 52014, 52015, 52016, 52017, 52020, 52025, 52026, 53001, 53002, 53003, 53004, 53005, 53006, 53007, 53008, 53009, 53013, 53017, 53018, 53019, 53020, 53022, 53023, 53024, 53025, 53026, 53028, 53029, 54001, 54002, 54003, 54004, 54005, 54006, 54007, 54008, 54010, 54011, 54012, 54013, 54014, 54015, 54016, 54017, 54018, 54019, 54020, 54022, 54023, 54024, 54025, 54026, 54027, 54028, 54029, 54032, 54034, 54036, 54038, 54040, 54041, 54043, 54044, 54045, 54046, 54047, 54048, 54049, 54050, 54052, 54053, 54054, 54057, 54058, 54059, 54060, 54061, 54062, 54063, 54065, 54066, 54067, 54069, 54070, 54080, 54081, 54083, 54084, 54085, 54087, 54088, 54089, 54090, 54091, 54092, 54094, 54095, 54096, 54097, 54098, 54099, 54100, 54102, 54106, 54107, 54110, 54111, 54112, 54113, 54114, 54115, 54906, 54907, 55002, 55003, 55004, 55005, 55006, 55007, 55008, 55009, 55010, 55011, 55012, 55013, 55014, 55015, 55016, 55017, 55018, 55020, 55021, 55022, 55023, 55025, 55026, 55027, 55028, 55029, 55030, 55031, 55032, 55033, 55034, 55035, 55036, 56001, 56002, 56003, 56004, 56005, 56006, 56007, 56011, 56012, 56013, 56014, 56015, 56019, 57001, 57002, 57003, 57004, 57005, 57006, 57007, 57008, 57009, 57010, 57014, 57015, 57017, 58001, 58002, 58003, 58004, 58005, 58006, 58007, 58008, 58009, 58010, 58011, 58012, 59001, 59002, 59003, 60001, 60002, 60003, 60004, 60005, 60006, 60007, 60008, 60009, 60010, 60012, 60013, 60016, 61001, 61002, 61003, 62001, 62002, 62003, 63001, 63002, 63003, 63004, 64001, 64002, 64004, 64006, 64010, 64011, 65001, 65004, 65005, 65006, 65007, 65008, 65014, 65015, 66001, 66002, 66004, 66005, 66006, 66011, 66012, 66025, 67001, 67003, 67005, 67006, 67008, 67009, 67010, 67013, 67015, 67017, 67018, 67023, 67025, 67027, 67028, 67029, 67033, 68001, 68002, 68003, 68004, 68005, 68006, 68007, 68010, 68011, 68015, 68018, 68020, 68021, 68044, 69001, 69002, 69003, 69004, 69005, 69006, 69007, 69008, 69011, 69012, 69013, 69015, 69017, 69019, 69020, 69022, 69023, 69024, 69025, 69026, 69027, 69028, 69030, 69032, 69033, 69035, 69037, 69039, 69041, 69042, 69043, 69044, 69045, 69046, 69047, 69048, 69803, 70001, 70002, 70003, 70004, 70005, 71001, 71002, 71003, 71004, 71005, 71006, 71008, 71009, 71010, 71011, 71013, 71014, 71015, 72002, 72003, 72004, 72005, 72006, 72007, 72008, 72009, 72011, 72014, 72015, 72016, 72017, 72817, 73002, 73003, 73005, 73006, 73008, 73009, 73010, 73011, 73012, 73013, 73014, 73015, 73016, 73017, 74001, 74002, 74003, 74005, 74006, 74007, 74008, 75001, 75002, 75003, 75004, 75005, 75006, 75007, 75009, 75010, 75016, 75017, 75018, 76001, 76002, 76003, 76004, 76005, 76007, 76008, 76009, 76010, 76011, 76014, 76015, 76017, 76019, 76020, 76021, 76022, 76023, 77001, 77002, 77003, 77004, 78001, 78003, 78004, 78005, 78006, 79001, 79002, 79003, 79004, 79005, 79006, 79007, 80001, 80002, 80003, 80004, 80005, 80006, 81001, 81002, 81003, 81004, 81005, 81006, 81007, 82001, 82002, 82003, 83002, 83003, 83004, 83005, 83006, 83007, 83008, 83009, 83010, 83011, 83012, 83013, 84001, 84002, 84003, 84004, 84005, 84006, 84007, 84008, 84009, 84011, 84012, 84013, 84014, 84015, 84016, 84017, 84018, 84019, 84020, 84022, 84023, 84024, 84025, 84026, 84027, 84029, 84030, 84031, 84032, 84033, 84035, 84037, 84040, 85001, 85002, 85003, 85004, 86001, 86002, 88001, 89002, 89003, 89004, 89005, 89006, 89007, 89008, 89009, 90003, 91002, 91802, 92001, 92002, 92003, 92004, 93001, 93002, 94001, 94003, 95001, 95002, 95003, 95004, 95005, 95006, 96001, 96002, 96003, 96004, 96005, 96006, 97002, 101001, 101002, 101003, 101004, 101005, 101006, 101007, 102001, 105001, 106001, 106002, 106003, 107001, 108001, 201002, 201005, 201006, 201007, 201008, 201009, 201010, 202001, 202002, 203010, 203011, 203012, 203017, 203018, 203019, 203020, 203021, 203022, 203024, 203025, 203026, 203027, 203028, 203029, 203033, 203038, 203039, 203040, 203042, 203043, 203046, 203049, 203050, 203092, 203093, 203097, 204001, 205004, 205005, 205008, 205010, 205011, 205015, 205020, 205029, 205034, 205101, 205105, 206001, 206002, 206006, 236005, 236007, 236051]\n",
      "Station metadata has been saved to station_metadata\\all_stations_metadata.json\n"
     ]
    }
   ],
   "source": [
    "def fetch_station_ids(base_url):\n",
    "    url = f\"{base_url}/station-ids?format=json-object\"\n",
    "    response = urllib.request.urlopen(url)\n",
    "    data = json.loads(response.read())\n",
    "    station_ids = data.get('station-ids', [])\n",
    "    print(\"Fetched Station IDs:\", station_ids)  # Debugging line\n",
    "    return station_ids\n",
    "\n",
    "\n",
    "def download_station_metadata(base_url, data_folder, fields='id,name,lat-long'):\n",
    "    \"\"\"\n",
    "    Downloads station metadata for all stations and saves it as JSON.\n",
    "\n",
    "    :param base_url: The base URL of the NRFA API.\n",
    "    :param data_folder: Folder to save the metadata JSON.\n",
    "    :param fields: Fields to include in the metadata.\n",
    "    \"\"\"\n",
    "    # Create the data folder if it does not exist\n",
    "    if not os.path.exists(data_folder):\n",
    "        os.makedirs(data_folder)\n",
    "\n",
    "    station_ids = fetch_station_ids(base_url)\n",
    "\n",
    "    all_station_info = []\n",
    "    for station_id in station_ids:\n",
    "        metadata_url = f\"{base_url}/station-info?station={station_id}&format=json-object&fields={fields}\"\n",
    "\n",
    "        try:\n",
    "            # Fetch the metadata for each station\n",
    "            response = urllib.request.urlopen(metadata_url)\n",
    "            data = json.loads(response.read())\n",
    "            all_station_info.extend(data.get('data', []))\n",
    "\n",
    "        except urllib.error.HTTPError as e:\n",
    "            error_message = e.read().decode()\n",
    "            print(f\"HTTP Error for station {station_id}: {e.code}\")\n",
    "            print(f\"Error message: {error_message}\")\n",
    "\n",
    "    # Save the combined metadata to a JSON file\n",
    "    json_file_path = os.path.join(data_folder, \"all_stations_metadata.json\")\n",
    "    with open(json_file_path, 'w') as file:\n",
    "        json.dump(all_station_info, file, indent=4)\n",
    "        print(f\"Station metadata has been saved to {json_file_path}\")\n",
    "\n",
    "# Usage example\n",
    "base_url = \"https://nrfaapps.ceh.ac.uk/nrfa/ws\"\n",
    "data_folder = \"station_metadata\"\n",
    "\n",
    "download_station_metadata(base_url, data_folder)"
   ],
   "metadata": {
    "collapsed": false,
    "ExecuteTime": {
     "end_time": "2024-01-23T21:51:00.442876900Z",
     "start_time": "2024-01-23T21:49:12.232719800Z"
    }
   },
   "id": "8938281bff493e6b",
   "execution_count": 11
  },
  {
   "cell_type": "code",
   "outputs": [],
   "source": [
    "\n",
    "def load_stations_from_json(file_path):\n",
    "    with open(file_path, 'r') as file:\n",
    "        data = json.load(file)\n",
    "        flattened_data = []\n",
    "        for station in data:\n",
    "            flattened_station = {\n",
    "                'id': station['id'],\n",
    "                'name': station['name'],\n",
    "                'latitude': station['lat-long']['latitude'],\n",
    "                'longitude': station['lat-long']['longitude'],\n",
    "            }       \n",
    "            flattened_data.append(flattened_station)\n",
    "        return flattened_data"
   ],
   "metadata": {
    "collapsed": false,
    "ExecuteTime": {
     "end_time": "2024-01-24T17:45:23.456001100Z",
     "start_time": "2024-01-24T17:45:23.443001700Z"
    }
   },
   "id": "38f15307a1dc914f",
   "execution_count": 2
  },
  {
   "cell_type": "code",
   "outputs": [
    {
     "name": "stdout",
     "output_type": "stream",
     "text": [
      "[{'id': 1001, 'name': 'Wick at Tarroul', 'latitude': 58.4762, 'longitude': -3.26706}, {'id': 2001, 'name': 'Helmsdale at Kilphedir', 'latitude': 58.141, 'longitude': -3.70295}, {'id': 2002, 'name': 'Brora at Bruachrobie', 'latitude': 58.01056, 'longitude': -3.87757}, {'id': 3001, 'name': 'Shin at Lairg', 'latitude': 58.02222, 'longitude': -4.40405}, {'id': 3002, 'name': 'Carron at Sgodachail', 'latitude': 57.89321, 'longitude': -4.54668}, {'id': 3003, 'name': 'Oykel at Easter Turnaig', 'latitude': 57.96185, 'longitude': -4.70086}, {'id': 3004, 'name': 'Cassley at Rosehall', 'latitude': 57.9821, 'longitude': -4.58615}, {'id': 3005, 'name': 'Shin at Inveran', 'latitude': 57.94319, 'longitude': -4.41038}, {'id': 3006, 'name': 'Loch Ailsh at Loch Ailsh', 'latitude': 58.04828, 'longitude': -4.85531}, {'id': 4001, 'name': 'Conon at Moy Bridge', 'latitude': 57.55658, 'longitude': -4.53997}]\n"
     ]
    }
   ],
   "source": [
    "\n",
    "\n",
    "def parse_kml_flood_data(kml_file_path):\n",
    "    with open(kml_file_path, 'r') as file:\n",
    "        doc = file.read()\n",
    "    k = kml.KML()\n",
    "    k.from_string(doc.encode('utf-8'))\n",
    "\n",
    "    flood_events = []\n",
    "    for feature in k.features():\n",
    "        for placemark in feature.features():\n",
    "            extended_data = placemark.extended_data\n",
    "            if extended_data:\n",
    "                schema_data = extended_data.schema_data[0]\n",
    "                simple_data = {data.name: data.value for data in schema_data.simple_data}\n",
    "                start_date = simple_data.get(\"start_date\")\n",
    "                end_date = simple_data.get(\"end_date\")\n",
    "                # Assuming the coordinates are in the right format to create a Polygon\n",
    "                flood_polygon = Polygon([(float(coord.split(',')[0]), float(coord.split(',')[1]))\n",
    "                                         for coord in placemark.geometry.exterior.coords])\n",
    "\n",
    "                flood_event = {\n",
    "                    'id': placemark.id,\n",
    "                    'name': placemark.name,\n",
    "                    'start_date': start_date,\n",
    "                    'end_date': end_date,\n",
    "                    'polygon': flood_polygon\n",
    "                }\n",
    "                flood_events.append(flood_event)\n",
    "    return flood_events\n",
    "\n",
    "\n",
    "\n",
    "def match_station_with_floods(stations, flood_events):\n",
    "    station_flood_mapping = []\n",
    "    \n",
    "    for station in stations:\n",
    "        station_point = Point(station['longitude'], station['latitude'])\n",
    "        for flood_event in flood_events:\n",
    "            if station_point.within(flood_event['polygon']):\n",
    "                station_flood_mapping.append({\n",
    "                    'station_id': station['id'],\n",
    "                    'station_name': station['name'],\n",
    "                    'flood_id': flood_event['id'],\n",
    "                    'flood_name': flood_event['name'],\n",
    "                    'start_date': flood_event['start_date'],\n",
    "                    'end_date': flood_event['end_date'],\n",
    "                })\n",
    "    return station_flood_mapping\n",
    "\n",
    "\n",
    "def basic_parse_kml(kml_file_path):\n",
    "    with open(kml_file_path, 'r') as file:\n",
    "        doc = file.read()\n",
    "    k = kml.KML()\n",
    "    k.from_string(doc.encode('utf-8'))\n",
    "\n",
    "    for feature in k.features():\n",
    "        print(\"Feature Type:\", type(feature), \"Feature Name:\", feature.name)\n",
    "        for placemark in feature.features():\n",
    "            print(\"Placemark Type:\", type(placemark), \"Placemark ID:\", placemark.id, \"Placemark Name:\", placemark.name)\n",
    "            if placemark.extended_data:\n",
    "                for schema_data in placemark.extended_data.schema_data:\n",
    "                    for simple_data in schema_data.simple_data:\n",
    "                        print(\"Extended Data:\", simple_data.name, simple_data.value)\n",
    "            if hasattr(placemark, 'geometry'):\n",
    "                print(\"Geometry Type:\", type(placemark.geometry))\n",
    "\n",
    "# flood_events = basic_parse_kml('Recorded_Flood_Outlines.kml')\n",
    "\n",
    "\n",
    "\n",
    "stations = load_stations_from_json('station_metadata/all_stations_metadata.json')\n",
    "\n",
    "# flood_events = parse_kml_flood_data('Recorded_Flood_Outlines.kml')\n",
    "\n",
    "print(stations[:10])\n"
   ],
   "metadata": {
    "collapsed": false,
    "ExecuteTime": {
     "end_time": "2024-01-24T20:58:12.104044600Z",
     "start_time": "2024-01-24T20:58:12.063447900Z"
    }
   },
   "id": "1e5ec4f6ccfadb42",
   "execution_count": 4
  },
  {
   "cell_type": "code",
   "outputs": [],
   "source": [],
   "metadata": {
    "collapsed": false
   },
   "id": "a5b27cdd9df9826a"
  }
 ],
 "metadata": {
  "kernelspec": {
   "display_name": "Python 3",
   "language": "python",
   "name": "python3"
  },
  "language_info": {
   "codemirror_mode": {
    "name": "ipython",
    "version": 2
   },
   "file_extension": ".py",
   "mimetype": "text/x-python",
   "name": "python",
   "nbconvert_exporter": "python",
   "pygments_lexer": "ipython2",
   "version": "2.7.6"
  }
 },
 "nbformat": 4,
 "nbformat_minor": 5
}
