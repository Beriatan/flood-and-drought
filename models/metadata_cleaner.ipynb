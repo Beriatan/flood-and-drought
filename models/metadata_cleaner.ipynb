{
 "cells": [
  {
   "cell_type": "code",
   "execution_count": 1,
   "id": "initial_id",
   "metadata": {
    "collapsed": true,
    "ExecuteTime": {
     "end_time": "2024-04-21T16:02:03.847095400Z",
     "start_time": "2024-04-21T16:02:03.742524500Z"
    }
   },
   "outputs": [],
   "source": [
    "from dotenv import load_dotenv\n",
    "from service.s3_storage_service import S3StorageService\n",
    "from storage.s3_client import S3Client\n",
    "\n",
    "load_dotenv() # Load environment variable with the bucket name. \n",
    "s3_client = S3Client().get_client()\n",
    "s3_service = S3StorageService(s3_client)"
   ]
  },
  {
   "cell_type": "code",
   "outputs": [],
   "source": [
    "def extract_station_locations(s3_service, metadata_key, guids_key, output_key):\n",
    "    \"\"\"Extracts station locations and saves them to a new JSON file on S3.\"\"\"\n",
    "    # Load data from S3\n",
    "    station_metadata = s3_service.load_json_from_s3(metadata_key)\n",
    "    processed_guids = s3_service.load_json_from_s3(guids_key)\n",
    "    \n",
    "    # Create a mapping of referenceId to GUID\n",
    "    guid_map = {item['referenceId']: item['guid'] for item in processed_guids}\n",
    "    \n",
    "    # List to store extracted information\n",
    "    stations_locations = []\n",
    "    \n",
    "    # Iterate over each station in metadata\n",
    "    for station in station_metadata:\n",
    "        if station['stationReference'] in guid_map:\n",
    "            guid = guid_map[station['stationReference']]\n",
    "            lat = station.get('lat')\n",
    "            long = station.get('long')\n",
    "            riverName = station.get('riverName')\n",
    "            town = station.get('town')\n",
    "            referenceId = station['stationReference']\n",
    "            label = station.get('label')\n",
    "            catchmentName = station.get('catchmentName')\n",
    "            \n",
    "            # Construct the data dictionary, including only existing entries\n",
    "            station_data = {\n",
    "                'guid': guid,\n",
    "                'referenceId': referenceId,\n",
    "                'lat': lat,\n",
    "                'long': long,\n",
    "            }\n",
    "            if riverName:\n",
    "                station_data['riverName'] = riverName\n",
    "            if town:\n",
    "                station_data['town'] = town\n",
    "            if label:\n",
    "                station_data['label'] = label\n",
    "            if catchmentName:\n",
    "                station_data['catchmentName'] = catchmentName\n",
    "            \n",
    "            # Append the data\n",
    "            stations_locations.append(station_data)\n",
    "    \n",
    "    # Save the data to S3\n",
    "    s3_service.save_json_to_s3(output_key, stations_locations)\n",
    "\n",
    "\n"
   ],
   "metadata": {
    "collapsed": false,
    "ExecuteTime": {
     "end_time": "2024-04-21T16:02:04.680695100Z",
     "start_time": "2024-04-21T16:02:04.638473400Z"
    }
   },
   "id": "7212089155d9edf6",
   "execution_count": 2
  },
  {
   "cell_type": "code",
   "outputs": [],
   "source": [
    "metadata_key = 'flood_stations_metadata/project_stations_metadata.json'\n",
    "guids_key = 'flood_stations_metadata/processed_guids_refs.json'\n",
    "output_key = 'flood_stations_metadata/stations_locations.json'\n",
    "\n",
    "extract_station_locations(s3_service, metadata_key, guids_key, output_key)"
   ],
   "metadata": {
    "collapsed": false,
    "ExecuteTime": {
     "end_time": "2024-04-21T16:02:08.001927700Z",
     "start_time": "2024-04-21T16:02:07.493459900Z"
    }
   },
   "id": "f30e17ce4ca2585f",
   "execution_count": 3
  },
  {
   "cell_type": "code",
   "outputs": [],
   "source": [],
   "metadata": {
    "collapsed": false
   },
   "id": "8c1eaa3d4511eb9"
  }
 ],
 "metadata": {
  "kernelspec": {
   "display_name": "Python 3",
   "language": "python",
   "name": "python3"
  },
  "language_info": {
   "codemirror_mode": {
    "name": "ipython",
    "version": 2
   },
   "file_extension": ".py",
   "mimetype": "text/x-python",
   "name": "python",
   "nbconvert_exporter": "python",
   "pygments_lexer": "ipython2",
   "version": "2.7.6"
  }
 },
 "nbformat": 4,
 "nbformat_minor": 5
}
